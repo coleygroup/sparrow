{
 "cells": [
  {
   "cell_type": "markdown",
   "metadata": {},
   "source": [
    "### Convert .sdf file from enamine to csv file with costs for sparrow"
   ]
  },
  {
   "cell_type": "code",
   "execution_count": 5,
   "metadata": {},
   "outputs": [],
   "source": [
    "from rdkit import Chem \n",
    "from tqdm import tqdm \n",
    "import pandas as pd\n",
    "import re "
   ]
  },
  {
   "cell_type": "code",
   "execution_count": 6,
   "metadata": {},
   "outputs": [],
   "source": [
    "def update_inventory(smi, cost, amt_in_g, inventory): \n",
    "    if not smi: \n",
    "        return inventory\n",
    "    if smi not in inventory: \n",
    "        inventory[smi] = {}\n",
    "        inventory[smi][amt_in_g] = cost\n",
    "    else: \n",
    "        inventory[smi][amt_in_g] = cost\n",
    "    return inventory "
   ]
  },
  {
   "cell_type": "code",
   "execution_count": 7,
   "metadata": {},
   "outputs": [
    {
     "name": "stderr",
     "output_type": "stream",
     "text": [
      " 12%|█▏        | 38159/319341 [00:26<03:13, 1452.38it/s][10:55:58] Explicit valence for atom # 11 C, 5, is greater than permitted\n",
      "[10:55:58] ERROR: Could not sanitize molecule ending on line 2894599\n",
      "[10:55:58] ERROR: Explicit valence for atom # 11 C, 5, is greater than permitted\n",
      " 36%|███▌      | 115376/319341 [01:16<02:09, 1580.27it/s][10:56:49] Explicit valence for atom # 35 N greater than permitted\n",
      "[10:56:49] ERROR: Could not sanitize molecule ending on line 8644626\n",
      "[10:56:49] ERROR: Explicit valence for atom # 35 N greater than permitted\n",
      "[10:56:49] Explicit valence for atom # 14 C, 6, is greater than permitted\n",
      "[10:56:49] ERROR: Could not sanitize molecule ending on line 8647116\n",
      "[10:56:49] ERROR: Explicit valence for atom # 14 C, 6, is greater than permitted\n",
      " 38%|███▊      | 120548/319341 [01:20<02:14, 1480.31it/s][10:56:52] Explicit valence for atom # 2 O, 4, is greater than permitted\n",
      "[10:56:52] ERROR: Could not sanitize molecule ending on line 9025862\n",
      "[10:56:52] ERROR: Explicit valence for atom # 2 O, 4, is greater than permitted\n",
      " 70%|██████▉   | 221999/319341 [02:03<00:35, 2734.68it/s][10:57:36] Explicit valence for atom # 5 Cl, 2, is greater than permitted\n",
      "[10:57:36] ERROR: Could not sanitize molecule ending on line 16688391\n",
      "[10:57:36] ERROR: Explicit valence for atom # 5 Cl, 2, is greater than permitted\n",
      " 75%|███████▍  | 239160/319341 [02:09<00:28, 2775.59it/s][10:57:42] Explicit valence for atom # 9 Cl, 2, is greater than permitted\n",
      "[10:57:42] ERROR: Could not sanitize molecule ending on line 17983405\n",
      "[10:57:42] ERROR: Explicit valence for atom # 9 Cl, 2, is greater than permitted\n",
      " 78%|███████▊  | 249392/319341 [02:13<00:25, 2700.46it/s][10:57:46] Explicit valence for atom # 19 N greater than permitted\n",
      "[10:57:46] ERROR: Could not sanitize molecule ending on line 18761949\n",
      "[10:57:46] ERROR: Explicit valence for atom # 19 N greater than permitted\n",
      " 87%|████████▋ | 277156/319341 [02:23<00:15, 2715.24it/s][10:57:56] WARNING: not removing hydrogen atom without neighbors\n",
      " 91%|█████████ | 289823/319341 [02:28<00:10, 2706.67it/s][10:58:00] Explicit valence for atom # 4 Cl, 2, is greater than permitted\n",
      "[10:58:00] ERROR: Could not sanitize molecule ending on line 21804167\n",
      "[10:58:00] ERROR: Explicit valence for atom # 4 Cl, 2, is greater than permitted\n",
      " 92%|█████████▏| 294504/319341 [02:30<00:09, 2706.37it/s][10:58:02] Explicit valence for atom # 29 N greater than permitted\n",
      "[10:58:02] ERROR: Could not sanitize molecule ending on line 22167307\n",
      "[10:58:02] ERROR: Explicit valence for atom # 29 N greater than permitted\n",
      " 93%|█████████▎| 295606/319341 [02:30<00:08, 2744.32it/s][10:58:02] Explicit valence for atom # 9 Cl, 2, is greater than permitted\n",
      "[10:58:02] ERROR: Could not sanitize molecule ending on line 22235902\n",
      "[10:58:02] ERROR: Explicit valence for atom # 9 Cl, 2, is greater than permitted\n",
      " 93%|█████████▎| 296431/319341 [02:30<00:08, 2732.47it/s][10:58:03] Explicit valence for atom # 3 N greater than permitted\n",
      "[10:58:03] ERROR: Could not sanitize molecule ending on line 22310389\n",
      "[10:58:03] ERROR: Explicit valence for atom # 3 N greater than permitted\n",
      " 99%|█████████▉| 317563/319341 [02:38<00:00, 2729.06it/s][10:58:11] Explicit valence for atom # 9 N greater than permitted\n",
      "[10:58:11] ERROR: Could not sanitize molecule ending on line 23906761\n",
      "[10:58:11] ERROR: Explicit valence for atom # 9 N greater than permitted\n",
      "100%|██████████| 319341/319341 [02:39<00:00, 2006.30it/s]\n"
     ]
    }
   ],
   "source": [
    "supplfile = 'Enamine_FullCatalogue_USD_122024.sdf'\n",
    "suppl = Chem.SDMolSupplier(supplfile)\n",
    "inventory = {}\n",
    "for i, mol in tqdm(enumerate(suppl), total=len(suppl)):\n",
    "    if mol: \n",
    "        smi = Chem.MolToSmiles(mol)\n",
    "        price_props = [prop for prop in mol.GetPropNames() if prop.startswith('Price')]\n",
    "        for prop in price_props:\n",
    "            price_str = prop.split('Price_USD_')[1]\n",
    "            amt, unit, _ = re.split('([a-z]+)', price_str)\n",
    "            amt = float(amt)\n",
    "            if unit == 'mg': \n",
    "                amt = amt/1000\n",
    "            elif unit != 'g': \n",
    "                print(f'unknown unit: {unit}')\n",
    "                continue\n",
    "            price = mol.GetPropsAsDict()[prop]\n",
    "            inventory = update_inventory(smi, price, amt, inventory)"
   ]
  },
  {
   "cell_type": "code",
   "execution_count": 8,
   "metadata": {},
   "outputs": [
    {
     "name": "stdout",
     "output_type": "stream",
     "text": [
      "failure rate:  0.004\n",
      "total inventory size: 317934\n"
     ]
    }
   ],
   "source": [
    "print(f'failure rate: {1-len(inventory)/len(suppl): 0.3f}')\n",
    "print(f'total inventory size: {len(inventory)}')"
   ]
  },
  {
   "cell_type": "code",
   "execution_count": 9,
   "metadata": {},
   "outputs": [
    {
     "data": {
      "text/html": [
       "<div>\n",
       "<style scoped>\n",
       "    .dataframe tbody tr th:only-of-type {\n",
       "        vertical-align: middle;\n",
       "    }\n",
       "\n",
       "    .dataframe tbody tr th {\n",
       "        vertical-align: top;\n",
       "    }\n",
       "\n",
       "    .dataframe thead th {\n",
       "        text-align: right;\n",
       "    }\n",
       "</style>\n",
       "<table border=\"1\" class=\"dataframe\">\n",
       "  <thead>\n",
       "    <tr style=\"text-align: right;\">\n",
       "      <th></th>\n",
       "      <th>0.10</th>\n",
       "      <th>0.25</th>\n",
       "      <th>0.50</th>\n",
       "      <th>1.00</th>\n",
       "      <th>2.50</th>\n",
       "      <th>5.00</th>\n",
       "      <th>10.00</th>\n",
       "    </tr>\n",
       "  </thead>\n",
       "  <tbody>\n",
       "    <tr>\n",
       "      <th>CCOc1cc(C=O)ccc1OC(C)C(=O)N(C)C</th>\n",
       "      <td>73.0</td>\n",
       "      <td>103.0</td>\n",
       "      <td>196.0</td>\n",
       "      <td>284.0</td>\n",
       "      <td>558.0</td>\n",
       "      <td>825.0</td>\n",
       "      <td>1224.0</td>\n",
       "    </tr>\n",
       "    <tr>\n",
       "      <th>C=CCn1c(S)nnc1-c1cc(-c2ccc(C)cc2)nc2ccccc12</th>\n",
       "      <td>66.0</td>\n",
       "      <td>92.0</td>\n",
       "      <td>175.0</td>\n",
       "      <td>256.0</td>\n",
       "      <td>503.0</td>\n",
       "      <td>743.0</td>\n",
       "      <td>1101.0</td>\n",
       "    </tr>\n",
       "    <tr>\n",
       "      <th>CCCCn1c(S)nc2cc(C(=O)OC)ccc2c1=O</th>\n",
       "      <td>83.0</td>\n",
       "      <td>116.0</td>\n",
       "      <td>218.0</td>\n",
       "      <td>314.0</td>\n",
       "      <td>614.0</td>\n",
       "      <td>908.0</td>\n",
       "      <td>1346.0</td>\n",
       "    </tr>\n",
       "    <tr>\n",
       "      <th>COc1cc(C=O)ccc1OCC(=O)c1ccc(Cl)c(Cl)c1</th>\n",
       "      <td>73.0</td>\n",
       "      <td>103.0</td>\n",
       "      <td>196.0</td>\n",
       "      <td>284.0</td>\n",
       "      <td>558.0</td>\n",
       "      <td>825.0</td>\n",
       "      <td>1224.0</td>\n",
       "    </tr>\n",
       "    <tr>\n",
       "      <th>Cn1c(NCCO)nc2ccccc21</th>\n",
       "      <td>32.0</td>\n",
       "      <td>45.0</td>\n",
       "      <td>70.0</td>\n",
       "      <td>90.0</td>\n",
       "      <td>155.0</td>\n",
       "      <td>265.0</td>\n",
       "      <td>395.0</td>\n",
       "    </tr>\n",
       "  </tbody>\n",
       "</table>\n",
       "</div>"
      ],
      "text/plain": [
       "                                             0.10   0.25   0.50   1.00   \\\n",
       "CCOc1cc(C=O)ccc1OC(C)C(=O)N(C)C               73.0  103.0  196.0  284.0   \n",
       "C=CCn1c(S)nnc1-c1cc(-c2ccc(C)cc2)nc2ccccc12   66.0   92.0  175.0  256.0   \n",
       "CCCCn1c(S)nc2cc(C(=O)OC)ccc2c1=O              83.0  116.0  218.0  314.0   \n",
       "COc1cc(C=O)ccc1OCC(=O)c1ccc(Cl)c(Cl)c1        73.0  103.0  196.0  284.0   \n",
       "Cn1c(NCCO)nc2ccccc21                          32.0   45.0   70.0   90.0   \n",
       "\n",
       "                                             2.50   5.00    10.00  \n",
       "CCOc1cc(C=O)ccc1OC(C)C(=O)N(C)C              558.0  825.0  1224.0  \n",
       "C=CCn1c(S)nnc1-c1cc(-c2ccc(C)cc2)nc2ccccc12  503.0  743.0  1101.0  \n",
       "CCCCn1c(S)nc2cc(C(=O)OC)ccc2c1=O             614.0  908.0  1346.0  \n",
       "COc1cc(C=O)ccc1OCC(=O)c1ccc(Cl)c(Cl)c1       558.0  825.0  1224.0  \n",
       "Cn1c(NCCO)nc2ccccc21                         155.0  265.0   395.0  "
      ]
     },
     "execution_count": 9,
     "metadata": {},
     "output_type": "execute_result"
    }
   ],
   "source": [
    "df = pd.DataFrame(inventory).transpose()\n",
    "df.head()"
   ]
  },
  {
   "cell_type": "code",
   "execution_count": 10,
   "metadata": {},
   "outputs": [],
   "source": [
    "# df.to_csv('complete_inventory_g.csv')"
   ]
  },
  {
   "cell_type": "code",
   "execution_count": 20,
   "metadata": {},
   "outputs": [
    {
     "name": "stderr",
     "output_type": "stream",
     "text": [
      "  0%|          | 0/317934 [00:00<?, ?it/s]/tmp/ipykernel_4005067/54933520.py:3: FutureWarning: Series.__getitem__ treating keys as positions is deprecated. In a future version, integer keys will always be treated as labels (consistent with DataFrame behavior). To access a value by position, use `ser.iloc[pos]`\n",
      "  df[col][i]/col for col in df.columns\n",
      "100%|██████████| 317934/317934 [00:16<00:00, 19756.84it/s]\n"
     ]
    }
   ],
   "source": [
    "min_per_g = [\n",
    "    min([\n",
    "        df[col][i]/col for col in df.columns\n",
    "    ]) \n",
    "    for i in tqdm(range(len(df)))\n",
    "]"
   ]
  },
  {
   "cell_type": "code",
   "execution_count": null,
   "metadata": {},
   "outputs": [
    {
     "data": {
      "text/html": [
       "<div>\n",
       "<style scoped>\n",
       "    .dataframe tbody tr th:only-of-type {\n",
       "        vertical-align: middle;\n",
       "    }\n",
       "\n",
       "    .dataframe tbody tr th {\n",
       "        vertical-align: top;\n",
       "    }\n",
       "\n",
       "    .dataframe thead th {\n",
       "        text-align: right;\n",
       "    }\n",
       "</style>\n",
       "<table border=\"1\" class=\"dataframe\">\n",
       "  <thead>\n",
       "    <tr style=\"text-align: right;\">\n",
       "      <th></th>\n",
       "      <th>SMILES</th>\n",
       "      <th>Cost</th>\n",
       "    </tr>\n",
       "  </thead>\n",
       "  <tbody>\n",
       "    <tr>\n",
       "      <th>0</th>\n",
       "      <td>CCOc1cc(C=O)ccc1OC(C)C(=O)N(C)C</td>\n",
       "      <td>122.4</td>\n",
       "    </tr>\n",
       "    <tr>\n",
       "      <th>1</th>\n",
       "      <td>C=CCn1c(S)nnc1-c1cc(-c2ccc(C)cc2)nc2ccccc12</td>\n",
       "      <td>110.1</td>\n",
       "    </tr>\n",
       "    <tr>\n",
       "      <th>2</th>\n",
       "      <td>CCCCn1c(S)nc2cc(C(=O)OC)ccc2c1=O</td>\n",
       "      <td>134.6</td>\n",
       "    </tr>\n",
       "    <tr>\n",
       "      <th>3</th>\n",
       "      <td>COc1cc(C=O)ccc1OCC(=O)c1ccc(Cl)c(Cl)c1</td>\n",
       "      <td>122.4</td>\n",
       "    </tr>\n",
       "    <tr>\n",
       "      <th>4</th>\n",
       "      <td>Cn1c(NCCO)nc2ccccc21</td>\n",
       "      <td>39.5</td>\n",
       "    </tr>\n",
       "  </tbody>\n",
       "</table>\n",
       "</div>"
      ],
      "text/plain": [
       "                                        SMILES   Cost\n",
       "0              CCOc1cc(C=O)ccc1OC(C)C(=O)N(C)C  122.4\n",
       "1  C=CCn1c(S)nnc1-c1cc(-c2ccc(C)cc2)nc2ccccc12  110.1\n",
       "2             CCCCn1c(S)nc2cc(C(=O)OC)ccc2c1=O  134.6\n",
       "3       COc1cc(C=O)ccc1OCC(=O)c1ccc(Cl)c(Cl)c1  122.4\n",
       "4                         Cn1c(NCCO)nc2ccccc21   39.5"
      ]
     },
     "execution_count": 23,
     "metadata": {},
     "output_type": "execute_result"
    }
   ],
   "source": [
    "df_min_per_g = pd.DataFrame({'SMILES': df.index, 'Cost per g': min_per_g})\n",
    "df_min_per_g.head()"
   ]
  },
  {
   "cell_type": "code",
   "execution_count": 24,
   "metadata": {},
   "outputs": [],
   "source": [
    "df_min_per_g.to_csv('enamine_per_g_122024.csv', index=False)"
   ]
  }
 ],
 "metadata": {
  "kernelspec": {
   "display_name": "sparrow",
   "language": "python",
   "name": "python3"
  },
  "language_info": {
   "codemirror_mode": {
    "name": "ipython",
    "version": 3
   },
   "file_extension": ".py",
   "mimetype": "text/x-python",
   "name": "python",
   "nbconvert_exporter": "python",
   "pygments_lexer": "ipython3",
   "version": "3.12.0"
  }
 },
 "nbformat": 4,
 "nbformat_minor": 2
}
